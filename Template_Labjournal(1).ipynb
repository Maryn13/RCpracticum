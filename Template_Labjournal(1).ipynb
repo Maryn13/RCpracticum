{
 "cells": [
  {
   "cell_type": "markdown",
   "metadata": {},
   "source": [
    "# General\n",
    "Template for labjournaal. See https://jupyter-notebook.readthedocs.io/en/stable/examples/Notebook/Working%20With%20Markdown%20Cells.html for options to use markdown.\n",
    "\n",
    "**Name:** Marijn Morssink en Ard de Weerd  \n",
    "**Title of the experiment:** Inleiding Gebruik Oscilloscoop  \n",
    "**Starting date:** 25-2-2022  \n",
    "**Expected enddate:** 25-2-2022  \n",
    "**Partner:**  \n",
    "**Goal of the experiment:** Kennis maken met oscilloscoop door metingen aan RC-circuits en LEDs  \n",
    "**Research question:** n.a.  \n",
    "**Expectations or Hypothesis:** n.a.  \n",
    "**Desired accuracy:** n.a. \n",
    "\n",
    "\n"
   ]
  },
  {
   "cell_type": "code",
   "execution_count": 1,
   "metadata": {
    "collapsed": true
   },
   "outputs": [],
   "source": [
    "#import necessary libraries\n",
    "import matplotlib.pyplot as plt\n",
    "import numpy as np\n",
    "import math\n",
    "from scipy.optimize import curve_fit "
   ]
  },
  {
   "cell_type": "markdown",
   "metadata": {},
   "source": [
    "# Preparation\n",
    " \n"
   ]
  },
  {
   "cell_type": "markdown",
   "metadata": {},
   "source": [
    "**Assignments:**  "
   ]
  },
  {
   "cell_type": "markdown",
   "metadata": {},
   "source": [
    "**Method:**  \n",
    "**Theory:**  \n",
    "**Independent variable:**  \n",
    "**Dependent variable:**  \n",
    "**Controlled variablen:**  \n",
    "**Measurement instruments \\& Settings:**  \n",
    "**Procedure:**  \n",
    "**Setup(drawing or picture):**  \n",
    "**Notes:**  \n",
    "**About accuracy:**  \n"
   ]
  },
  {
   "cell_type": "markdown",
   "metadata": {},
   "source": [
    "# Execution"
   ]
  },
  {
   "cell_type": "code",
   "execution_count": 2,
   "metadata": {
    "collapsed": true
   },
   "outputs": [],
   "source": [
    "import numpy as np\n",
    "import matplotlib.pyplot as plt\n",
    "# Measurements: Explain the names of variables provide only raw data in np.arrays!\n",
    "\n",
    "#Ac/Dc stand opgaven: evt antwoorden"
   ]
  },
  {
   "cell_type": "markdown",
   "metadata": {},
   "source": [
    "**3.1 AC-DC-stand:** \n",
    "\n",
    "We verwachten dat bloksignaal wel werkt bij AC maar niet bij DC, DC heeft namelijk geen blokken. <br />",
    "stand hangt af van de freqentie en het soort signal\n <br />",
    "Dit betekent dat we de AC-stand nodig hebben bij de overige opdrachten, gezien daar gebruik wordt gemaakt van wisselspanning.\n",
    "\n",
    "Verwacht: vpp = 1 V, T=10 ms, klopt\n",
    "\n"
   ]
  },
  {
   "cell_type": "code",
   "execution_count": 3,
   "metadata": {
    "collapsed": true
   },
   "outputs": [],
   "source": [
    "#Fase verschuiving RC-circuit\n",
    "R = 4.7 * 10**3\n",
    "C = 33 * 10 **(-9)\n",
    "frequentie = np.array([1,2,4,8,10,20.2,40,80,100,200,400,801,1000,2000,4000,8010,10000,19800,40000,80000,100000])\n",
    "u_freq = np.array([])\n",
    "faseverschuiving = np.array([0,0,0,0,0,0,2,4,5,11,20,36,43,63,77,80,83,81,86,87,87])\n",
    "u_fasever= np.array([])\n",
    "V_pp = np.array([2.04,2.08,2.04,2.04,2.08,2.04,2.04,2.04,2.08,2.04,1.88,1.64,1.46,0.98,0.512,0.276,0.224,0.12,0.08,0.047,0.04])\n",
    "u_V_pp = np.array([])\n",
    "fase_theo = np.arctan(frequentie*R*C)\n",
    "u_fase_theo = np.array([])"
   ]
  },
  {
   "cell_type": "code",
   "execution_count": 5,
   "metadata": {
    "collapsed": true
   },
   "outputs": [],
   "source": [
    "#RCtijd\n",
    "\n",
    "f_cutoff = 1/(2*np.pi*R*C)\n",
    "#tijdschaal berekening\n",
    "\n",
    "#schatten\n",
    "RC_schatting = 160 * 10**(-6)\n",
    "\n",
    "V_pp2 = 2.08\n",
    "V_max = 1.76\n",
    "V_min = -320 * 10**3\n",
    "\n",
    "#klopt dit?\n",
    "U_c = 0.632*(V_max-V_min)\n",
    "t = 1\n",
    "\n",
    "tau = 240 * 10 **(-6)\n",
    "\n",
    "\n",
    "\n",
    "#rise time is 2.2 tau\n",
    "rise_time = 318 * 10 **(-6)\n",
    "\n",
    "RC_rise = rise_time/2.2\n",
    "\n"
   ]
  },
  {
   "cell_type": "code",
   "execution_count": 6,
   "metadata": {
    "collapsed": true
   },
   "outputs": [],
   "source": [
    "#lowPass\n",
    "cutoff = 10**3\n",
    "#a optimale werking bij hoge freqenties, de ruis wordt dan niet opgevangen door de condensator maar de lagere frequentiebasis signaal wel.\n",
    "#bij te lage freqenties is de freqentie van de ruis zo laag dat deze ook nog wordt opgevangen door de condensator.\n",
    "#schatting op basis van grafiek is 10-10^4 hz (te hoog is ook niet goed)\n"
   ]
  },
  {
   "cell_type": "code",
   "execution_count": 7,
   "metadata": {
    "collapsed": true
   },
   "outputs": [],
   "source": [
    "#Led\n",
    "U_r =1\n",
    "U_drempel = 2.5\n",
    "\n",
    "#feller, ontploffing op gegeven moment, lampje blijft langer aan, klopt\n",
    "# gemeten signaal wordt groter, klopt"
   ]
  },
  {
   "cell_type": "markdown",
   "metadata": {},
   "source": [
    "**Observations:**  \n",
    "**Notes:**  "
   ]
  },
  {
   "cell_type": "markdown",
   "metadata": {},
   "source": [
    "# Processing\n",
    "**Description of processing of raw data into scientific evidence:**\n"
   ]
  },
  {
   "cell_type": "code",
   "execution_count": 8,
   "metadata": {},
   "outputs": [
    {
     "data": {
      "image/png": "[encoded data removed]",
      "text/plain": [
       "<Figure size 432x288 with 1 Axes>"
      ]
     },
     "metadata": {
      "needs_background": "light"
     },
     "output_type": "display_data"
    }
   ],
   "source": [
    "#Data processing and analysis:\n",
    "#Faseverschuiving\n",
    "plt.figure()\n",
    "\n",
    "plt.plot(frequentie,faseverschuiving)\n",
    "plt.plot(frequentie,fase_theo)\n",
    "plt.xscale('log')\n",
    "plt.show()"
   ]
  },
  {
   "cell_type": "code",
   "execution_count": 9,
   "metadata": {},
   "outputs": [
    {
     "data": {
      "image/png": "[encoded data removed]",
      "text/plain": [
       "<Figure size 432x288 with 1 Axes>"
      ]
     },
     "metadata": {
      "needs_background": "light"
     },
     "output_type": "display_data"
    }
   ],
   "source": [
    "#Data processing and analysis:\n",
    "#lowPass\n",
    "plt.figure()\n",
    "\n",
    "plt.plot(frequentie,V_pp)\n",
    "plt.xscale('log')\n",
    "plt.grid()\n",
    "plt.show()"
   ]
  },
  {
   "cell_type": "code",
   "execution_count": 10,
   "metadata": {
    "collapsed": true
   },
   "outputs": [],
   "source": [
    "#Data processing and analysis:\n"
   ]
  },
  {
   "cell_type": "markdown",
   "metadata": {},
   "source": [
    "**Describing the pattern in the processed data:**  \n"
   ]
  },
  {
   "cell_type": "code",
   "execution_count": 11,
   "metadata": {
    "collapsed": true
   },
   "outputs": [],
   "source": [
    "#Calculations of e.a. measurement uncertainties, and providing final answers.\n"
   ]
  },
  {
   "cell_type": "markdown",
   "metadata": {},
   "source": [
    "**Notes:**  "
   ]
  },
  {
   "cell_type": "markdown",
   "metadata": {},
   "source": [
    "# Discussion\n",
    "\n"
   ]
  },
  {
   "cell_type": "markdown",
   "metadata": {},
   "source": [
    "# Conclusion"
   ]
  },
  {
   "cell_type": "code",
   "execution_count": null,
   "metadata": {
    "collapsed": true
   },
   "outputs": [],
   "source": []
  },
  {
   "cell_type": "code",
   "execution_count": null,
   "metadata": {
    "collapsed": true
   },
   "outputs": [],
   "source": []
  },
  {
   "cell_type": "markdown",
   "metadata": {},
   "source": [
    "# Additional notes, remarks, explanations, thoughts etc"
   ]
  },
  {
   "cell_type": "markdown",
   "metadata": {},
   "source": []
  }
 ],
 "metadata": {
  "kernelspec": {
   "display_name": "Python 3 [3.7]",
   "language": "python",
   "name": "python3"
  },
  "language_info": {
   "codemirror_mode": {
    "name": "ipython",
    "version": 3
   },
   "file_extension": ".py",
   "mimetype": "text/x-python",
   "name": "python",
   "nbconvert_exporter": "python",
   "pygments_lexer": "ipython3",
   "version": "3.7.5"
  }
 },
 "nbformat": 4,
 "nbformat_minor": 2
}
